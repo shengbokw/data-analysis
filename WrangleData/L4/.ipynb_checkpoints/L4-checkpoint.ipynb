{
 "cells": [
  {
   "cell_type": "code",
   "execution_count": 51,
   "metadata": {
    "collapsed": true
   },
   "outputs": [],
   "source": [
    "import codecs\n",
    "import csv\n",
    "import json\n",
    "import pprint\n",
    "import re\n",
    "\n",
    "DATAFILE = 'arachnid.csv'\n",
    "FIELDS ={'rdf-schema#label': 'label',\n",
    "         'URI': 'uri',\n",
    "         'rdf-schema#comment': 'description',\n",
    "         'synonym': 'synonym',\n",
    "         'name': 'name',\n",
    "         'family_label': 'family',\n",
    "         'class_label': 'class',\n",
    "         'phylum_label': 'phylum',\n",
    "         'order_label': 'order',\n",
    "         'kingdom_label': 'kingdom',\n",
    "         'genus_label': 'genus'}\n",
    "\n",
    "CLASSIFY = {'kingdom','family','order','phylum','genus','class'}"
   ]
  },
  {
   "cell_type": "code",
   "execution_count": 52,
   "metadata": {
    "collapsed": true
   },
   "outputs": [],
   "source": [
    "def parse_label(v):\n",
    "    if v == \"NULL\":\n",
    "        return None\n",
    "    a = re.compile('\\(.*?\\)')\n",
    "    v = a.sub('', v)\n",
    "    v = v.strip()\n",
    "    return v\n",
    "\n",
    "\n",
    "def parse_normal(v):\n",
    "    if v == \"NULL\":\n",
    "        return None\n",
    "    v = v.strip()\n",
    "    return v"
   ]
  },
  {
   "cell_type": "code",
   "execution_count": 58,
   "metadata": {
    "collapsed": true
   },
   "outputs": [],
   "source": [
    "def parse_name(v):\n",
    "    a = re.compile('^a-zA-Z')\n",
    "    if v == \"NULL\" or a.match(v):\n",
    "        return True\n",
    "    return False\n",
    "\n",
    "def parse_array(v):\n",
    "    if v == \"NULL\":\n",
    "        return None\n",
    "    if (v[0] == \"{\") and (v[-1] == \"}\"):\n",
    "        v = v.lstrip(\"{\")\n",
    "        v = v.rstrip(\"}\")\n",
    "        v_array = v.split(\"|\")\n",
    "        v_array = [i.strip() for i in v_array]\n",
    "        return v_array\n",
    "    return [v]"
   ]
  },
  {
   "cell_type": "code",
   "execution_count": 61,
   "metadata": {
    "collapsed": true
   },
   "outputs": [],
   "source": [
    "def parse_line(line, process_fields):\n",
    "    fields = {}\n",
    "    classification = {}\n",
    "    \n",
    "    for c in line:\n",
    "        if c in process_fields:\n",
    "            if c == 'rdf-schema#label':\n",
    "                fields['label'] = parse_label(line[c])\n",
    "            elif c == 'name':\n",
    "                fields['name'] = line[c]\n",
    "            elif FIELDS[c] in CLASSIFY:\n",
    "                classification[FIELDS[c]] = parse_normal(line[c])\n",
    "            elif c == 'synonym':\n",
    "                fields[c] = parse_array(line[c])\n",
    "            else:\n",
    "                fields[FIELDS[c]] = parse_normal(line[c])\n",
    "                \n",
    "    if parse_name(fields[\"name\"]):\n",
    "        fields[\"name\"] = fields[\"label\"]\n",
    "    else:\n",
    "        fields[\"name\"] = parse_normal(fields[\"name\"])\n",
    "    fields['classification'] = classification\n",
    "\n",
    "    return fields"
   ]
  },
  {
   "cell_type": "code",
   "execution_count": 55,
   "metadata": {
    "collapsed": false
   },
   "outputs": [],
   "source": [
    "def process_file(filename, fields):\n",
    "\n",
    "    process_fields = fields.keys()\n",
    "    data = []\n",
    "    \n",
    "    with open(filename, \"r\") as f:\n",
    "        reader = csv.DictReader(f)\n",
    "        for i in range(3):\n",
    "            l = reader.next()\n",
    "\n",
    "        for line in reader:\n",
    "            fields = parse_line(line, process_fields)\n",
    "            data.append(fields)\n",
    "            \n",
    "    return data"
   ]
  },
  {
   "cell_type": "code",
   "execution_count": 62,
   "metadata": {
    "collapsed": false
   },
   "outputs": [],
   "source": [
    "data = process_file(DATAFILE, FIELDS)"
   ]
  },
  {
   "cell_type": "code",
   "execution_count": 63,
   "metadata": {
    "collapsed": false
   },
   "outputs": [
    {
     "data": {
      "text/plain": [
       "{'classification': {'class': 'Arachnid',\n",
       "  'family': 'Orb-weaver spider',\n",
       "  'genus': None,\n",
       "  'kingdom': 'Animal',\n",
       "  'order': 'Spider',\n",
       "  'phylum': 'Arthropod'},\n",
       " 'description': 'The genus Argiope includes rather large and spectacular spiders that often have a strikingly coloured abdomen. These spiders are distributed throughout the world. Most countries in tropical or temperate climates host one or more species that are similar in appearance. The etymology of the name is from a Greek name meaning silver-faced.',\n",
       " 'label': 'Argiope',\n",
       " 'name': 'Argiope',\n",
       " 'synonym': None,\n",
       " 'uri': 'http://dbpedia.org/resource/Argiope_(spider)'}"
      ]
     },
     "execution_count": 63,
     "metadata": {},
     "output_type": "execute_result"
    }
   ],
   "source": [
    "data[0]"
   ]
  },
  {
   "cell_type": "code",
   "execution_count": null,
   "metadata": {
    "collapsed": true
   },
   "outputs": [],
   "source": []
  }
 ],
 "metadata": {
  "anaconda-cloud": {},
  "kernelspec": {
   "display_name": "Python [Root]",
   "language": "python",
   "name": "Python [Root]"
  },
  "language_info": {
   "codemirror_mode": {
    "name": "ipython",
    "version": 2
   },
   "file_extension": ".py",
   "mimetype": "text/x-python",
   "name": "python",
   "nbconvert_exporter": "python",
   "pygments_lexer": "ipython2",
   "version": "2.7.12"
  }
 },
 "nbformat": 4,
 "nbformat_minor": 0
}
