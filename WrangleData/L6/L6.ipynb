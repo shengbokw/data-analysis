{
 "cells": [
  {
   "cell_type": "code",
   "execution_count": 1,
   "metadata": {
    "collapsed": true
   },
   "outputs": [],
   "source": [
    "import xml.etree.cElementTree as ET\n",
    "import pprint\n",
    "import re\n",
    "import codecs\n",
    "import json"
   ]
  },
  {
   "cell_type": "code",
   "execution_count": 2,
   "metadata": {
    "collapsed": true
   },
   "outputs": [],
   "source": [
    "lower = re.compile(r'^([a-z]|_)*$')\n",
    "lower_colon = re.compile(r'^([a-z]|_)*:([a-z]|_)*$')\n",
    "problemchars = re.compile(r'[=\\+/&<>;\\'\"\\?%#$@\\,\\. \\t\\r\\n]')\n",
    "\n",
    "CREATED = [ \"version\", \"changeset\", \"timestamp\", \"user\", \"uid\"]"
   ]
  },
  {
   "cell_type": "code",
   "execution_count": 3,
   "metadata": {
    "collapsed": true
   },
   "outputs": [],
   "source": [
    "def isfloat(value):\n",
    "    try:\n",
    "        float(value)    \n",
    "        return True\n",
    "    except:\n",
    "        return False"
   ]
  },
  {
   "cell_type": "code",
   "execution_count": 11,
   "metadata": {
    "collapsed": false
   },
   "outputs": [],
   "source": [
    "node = {}\n",
    "for _, element in ET.iterparse('example.osm'):\n",
    "    if element.tag == \"node\" or element.tag == \"way\" :\n",
    "        if element.tag == \"way\":\n",
    "            node_refs = []\n",
    "            for nd in element.iter(\"nd\"):\n",
    "                node_refs.append(nd.attrib[\"ref\"])\n",
    "            if len(node_refs) > 0:\n",
    "                node[\"node_refs\"] = node_refs\n",
    "                \n",
    "    if \"id\" in element.attrib:\n",
    "          node[\"id\"] = element.attrib[\"id\"]\n",
    "            \n",
    "    node[\"type\"] = element.tag\n",
    "\n",
    "    if \"visible\" in element.attrib:\n",
    "        node[\"visible\"] = element.attrib[\"visible\"]\n",
    "\n",
    "    created = {}\n",
    "    for tag in CREATED:\n",
    "        if tag in element.attrib:\n",
    "            created[tag] = element.attrib[tag]\n",
    "    if len(created) > 0:\n",
    "        node[\"created\"] = created\n",
    "\n",
    "    pos = []    \n",
    "    if \"lat\" in element.attrib and \"lon\" in element.attrib:\n",
    "        lat = element.attrib[\"lat\"]\n",
    "        lon = element.attrib[\"lon\"]\n",
    "        if isfloat(lat) and isfloat(lon):\n",
    "            pos = [float(lat), float(lon)]\n",
    "            node[\"pos\"] = pos\n",
    "\n",
    "    address = {}\n",
    "    for tag in element.iter(\"tag\"):\n",
    "        split_k = tag.attrib['k'].split(\":\")\n",
    "        if len(split_k) == 1:\n",
    "            node[split_k[0]] = tag.attrib['v']\n",
    "        elif len(split_k) == 2:\n",
    "            address[split_k[1]] = tag.attrib['v']\n",
    "\n",
    "    if len(address) > 0:\n",
    "        node[\"address\"] = address"
   ]
  },
  {
   "cell_type": "code",
   "execution_count": 12,
   "metadata": {
    "collapsed": false
   },
   "outputs": [
    {
     "data": {
      "text/plain": [
       "{'address': {'building_id': '366409',\n",
       "  'city': 'Chicago',\n",
       "  'country': 'US',\n",
       "  'housename': 'Village Hall',\n",
       "  'housenumber': '1412',\n",
       "  'levels': '1',\n",
       "  'postcode': '60067',\n",
       "  'state': 'Illinois',\n",
       "  'street': 'West Lexington St.'},\n",
       " 'amenity': 'townhall',\n",
       " 'building': 'yes',\n",
       " 'created': {'version': '0.6'},\n",
       " 'cuisine': 'sausage',\n",
       " 'highway': 'service',\n",
       " 'id': '1557627',\n",
       " 'name': 'Village Hall',\n",
       " 'node_refs': ['2199822281',\n",
       "  '2199822390',\n",
       "  '2199822392',\n",
       "  '2199822369',\n",
       "  '2199822370',\n",
       "  '2199822284',\n",
       "  '2199822281'],\n",
       " 'outdoor_seating': 'no',\n",
       " 'phone': '(773)-654-1347',\n",
       " 'pos': [42.1251718, -88.0780576],\n",
       " 'restriction': 'only_right_turn',\n",
       " 'shop': 'doityourself',\n",
       " 'smoking': 'no',\n",
       " 'source': 'GPS',\n",
       " 'takeaway': 'yes',\n",
       " 'type': 'restriction',\n",
       " 'visible': 'true'}"
      ]
     },
     "execution_count": 12,
     "metadata": {},
     "output_type": "execute_result"
    }
   ],
   "source": [
    "node"
   ]
  },
  {
   "cell_type": "code",
   "execution_count": null,
   "metadata": {
    "collapsed": true
   },
   "outputs": [],
   "source": []
  }
 ],
 "metadata": {
  "anaconda-cloud": {},
  "kernelspec": {
   "display_name": "Python [Root]",
   "language": "python",
   "name": "Python [Root]"
  },
  "language_info": {
   "codemirror_mode": {
    "name": "ipython",
    "version": 2
   },
   "file_extension": ".py",
   "mimetype": "text/x-python",
   "name": "python",
   "nbconvert_exporter": "python",
   "pygments_lexer": "ipython2",
   "version": "2.7.12"
  }
 },
 "nbformat": 4,
 "nbformat_minor": 0
}
