{
 "cells": [
  {
   "cell_type": "code",
   "execution_count": 1,
   "metadata": {
    "collapsed": true
   },
   "outputs": [],
   "source": [
    "import codecs\n",
    "import csv\n",
    "import json\n",
    "import pprint\n",
    "\n",
    "CITIES = 'cities.csv'\n",
    "\n",
    "FIELDS = [\"name\", \"timeZone_label\", \"utcOffset\", \"homepage\", \"governmentType_label\",\n",
    "          \"isPartOf_label\", \"areaCode\", \"populationTotal\", \"elevation\",\n",
    "          \"maximumElevation\", \"minimumElevation\", \"populationDensity\",\n",
    "          \"wgs84_pos#lat\", \"wgs84_pos#long\", \"areaLand\", \"areaMetro\", \"areaUrban\"]\n",
    "          \n",
    "def isint(value):\n",
    "    try:\n",
    "        int(value)\n",
    "        return True\n",
    "    except ValueError:\n",
    "        return False\n",
    "\n",
    "def isfloat(value):\n",
    "    try:\n",
    "        float(value)    \n",
    "        return True\n",
    "    except:\n",
    "        return False"
   ]
  },
  {
   "cell_type": "code",
   "execution_count": 76,
   "metadata": {
    "collapsed": false
   },
   "outputs": [],
   "source": [
    "def audit_file(filename, fields):\n",
    "    fieldtypes = {}\n",
    "    data = []\n",
    "\n",
    "    with open(filename, 'r') as f:\n",
    "        reader = csv.reader(f)\n",
    "        for line in reader:\n",
    "            if reader.line_num == 1:\n",
    "                header = line\n",
    "    f.close()\n",
    "\n",
    "    with open(filename, 'rb') as f:\n",
    "        reader = csv.DictReader(f)\n",
    "        \n",
    "        for i in range(len(header)):\n",
    "            dataName = header[i]\n",
    "          \n",
    "            if dataName in FIELDS:\n",
    "                fieldtypes[dataName] = []\n",
    "                column = [row for row in reader]\n",
    "                data.append(column)\n",
    "\n",
    "#                 for j in range(3, len(column)):\n",
    "#                     if column[j] == \"NULL\" or column[j] == \"\":\n",
    "#                         datatype = type(None)\n",
    "#                     elif \"{\" in column[j]:\n",
    "#                         datatype =  type([])\n",
    "#                     elif isint(column[j]):\n",
    "#                         datatype = type(1)\n",
    "#                     elif isfloat(column[j]):\n",
    "#                         datatype = type(1.1)\n",
    "#                     else:\n",
    "#                         datatype = type(str())\n",
    "\n",
    "#                     fieldtypes[dataName].append(datatype)\n",
    "\n",
    "#                 fieldtypes[dataName] = set(fieldtypes[dataName])\n",
    "    \n",
    "    return data"
   ]
  },
  {
   "cell_type": "code",
   "execution_count": 85,
   "metadata": {
    "collapsed": false
   },
   "outputs": [],
   "source": [
    "def datatype(data):\n",
    "    if data == \"NULL\" or data == \"\":\n",
    "        s = type(None)\n",
    "    elif \"{\" in data:\n",
    "        s =  type([])\n",
    "    elif isint(data):\n",
    "        s = type(1)\n",
    "    elif isfloat(data):\n",
    "        s = type(1.1)\n",
    "    else:\n",
    "        s = type(str())\n",
    "    \n",
    "    return s"
   ]
  },
  {
   "cell_type": "code",
   "execution_count": 45,
   "metadata": {
    "collapsed": true
   },
   "outputs": [],
   "source": [
    "filename = CITIES"
   ]
  },
  {
   "cell_type": "code",
   "execution_count": 97,
   "metadata": {
    "collapsed": false
   },
   "outputs": [],
   "source": [
    "fieldtypes = {}\n",
    "for i in range(len(FIELDS)):\n",
    "    fieldtypes[FIELDS[i]] = []\n",
    "\n",
    "with open(filename, 'r') as f:\n",
    "    reader = csv.reader(f)\n",
    "    for line in reader:\n",
    "        if reader.line_num == 1:\n",
    "            header = line\n",
    "        elif reader.line_num <= 4:\n",
    "            continue\n",
    "        else:\n",
    "            for i in range(len(header)):\n",
    "                dataName = header[i]\n",
    "                if dataName in FIELDS:\n",
    "                    fieldtypes[dataName].append(datatype(line[i]))\n",
    "                    \n",
    "for i in range(len(FIELDS)):\n",
    "    fieldtypes[FIELDS[i]] = set(fieldtypes[FIELDS[i]])"
   ]
  },
  {
   "cell_type": "code",
   "execution_count": 98,
   "metadata": {
    "collapsed": false
   },
   "outputs": [
    {
     "data": {
      "text/plain": [
       "{'areaCode': {int, NoneType, str},\n",
       " 'areaLand': {float, list, NoneType},\n",
       " 'areaMetro': {float, NoneType},\n",
       " 'areaUrban': {float, NoneType},\n",
       " 'elevation': {float, list, NoneType},\n",
       " 'governmentType_label': {NoneType, str},\n",
       " 'homepage': {NoneType, str},\n",
       " 'isPartOf_label': {list, NoneType, str},\n",
       " 'maximumElevation': {NoneType},\n",
       " 'minimumElevation': {NoneType},\n",
       " 'name': {list, NoneType, str},\n",
       " 'populationDensity': {float, list, NoneType},\n",
       " 'populationTotal': {int, NoneType},\n",
       " 'timeZone_label': {NoneType, str},\n",
       " 'utcOffset': {int, list, NoneType, str},\n",
       " 'wgs84_pos#lat': {float},\n",
       " 'wgs84_pos#long': {float}}"
      ]
     },
     "execution_count": 98,
     "metadata": {},
     "output_type": "execute_result"
    }
   ],
   "source": [
    "fieldtypes"
   ]
  },
  {
   "cell_type": "code",
   "execution_count": 94,
   "metadata": {
    "collapsed": false
   },
   "outputs": [
    {
     "data": {
      "text/plain": [
       "[str,\n",
       " str,\n",
       " str,\n",
       " str,\n",
       " str,\n",
       " str,\n",
       " str,\n",
       " str,\n",
       " str,\n",
       " str,\n",
       " str,\n",
       " str,\n",
       " str,\n",
       " str,\n",
       " str,\n",
       " list,\n",
       " str,\n",
       " str,\n",
       " str,\n",
       " list,\n",
       " str,\n",
       " str,\n",
       " str,\n",
       " str,\n",
       " str,\n",
       " str,\n",
       " str,\n",
       " str,\n",
       " str,\n",
       " str,\n",
       " str,\n",
       " str,\n",
       " str,\n",
       " str,\n",
       " str,\n",
       " str,\n",
       " NoneType,\n",
       " str,\n",
       " str,\n",
       " str]"
      ]
     },
     "execution_count": 94,
     "metadata": {},
     "output_type": "execute_result"
    }
   ],
   "source": [
    "fieldtypes[FIELDS[0]]"
   ]
  },
  {
   "cell_type": "code",
   "execution_count": null,
   "metadata": {
    "collapsed": true
   },
   "outputs": [],
   "source": []
  }
 ],
 "metadata": {
  "anaconda-cloud": {},
  "kernelspec": {
   "display_name": "Python [Root]",
   "language": "python",
   "name": "Python [Root]"
  },
  "language_info": {
   "codemirror_mode": {
    "name": "ipython",
    "version": 2
   },
   "file_extension": ".py",
   "mimetype": "text/x-python",
   "name": "python",
   "nbconvert_exporter": "python",
   "pygments_lexer": "ipython2",
   "version": "2.7.12"
  }
 },
 "nbformat": 4,
 "nbformat_minor": 0
}
