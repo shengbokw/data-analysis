{
 "cells": [
  {
   "cell_type": "code",
   "execution_count": 1,
   "metadata": {
    "collapsed": true
   },
   "outputs": [],
   "source": [
    "import xml.etree.cElementTree as ET\n",
    "import pprint\n",
    "import re\n",
    "import codecs\n",
    "import json\n",
    "\n",
    "FILENAME = 'minneapolis-saint-paul_minnesota.osm'\n",
    "\n",
    "lower = re.compile(r'^([a-z]|_)*$')\n",
    "\n",
    "street_type_re = re.compile(r'\\b\\S+\\.?$', re.IGNORECASE)\n",
    "\n",
    "mapping = { \"St\": \"Street\",\n",
    "            \"St.\": \"Street\",\n",
    "            \"Rd\": \"Road\",\n",
    "            \"Rd.\": \"Road\",\n",
    "            \"Ave\": \"Avenue\",\n",
    "            \"Ave.\": \"Avenue\"\n",
    "            }\n",
    "\n",
    "CREATED = [ \"version\", \"changeset\", \"timestamp\", \"user\", \"uid\"]"
   ]
  },
  {
   "cell_type": "code",
   "execution_count": 2,
   "metadata": {
    "collapsed": false
   },
   "outputs": [],
   "source": [
    "#this is a function of judging if a value is float type or not \n",
    "def isfloat(value):\n",
    "    try:\n",
    "        float(value)    \n",
    "        return True\n",
    "    except:\n",
    "        return False"
   ]
  },
  {
   "cell_type": "code",
   "execution_count": 3,
   "metadata": {
    "collapsed": false
   },
   "outputs": [],
   "source": [
    "#this is a function of updating the street name into the same ending.\n",
    "def update_name(name, mapping):\n",
    "    split_name = name.split(' ')\n",
    "    name = \"\"\n",
    "    for word in split_name:\n",
    "        if word in mapping:\n",
    "            name += mapping[word]\n",
    "            break\n",
    "        name += word\n",
    "        name += \" \"\n",
    "    return name"
   ]
  },
  {
   "cell_type": "code",
   "execution_count": 4,
   "metadata": {
    "collapsed": true
   },
   "outputs": [],
   "source": [
    "#this is a function of dealing with the node refs which exists only under the 'way' tag\n",
    "def dealing_node_refs(element):\n",
    "    node_refs = []\n",
    "    for nd in element.iter(\"nd\"):\n",
    "        node_refs.append(nd.attrib[\"ref\"])\n",
    "\n",
    "    return node_refs"
   ]
  },
  {
   "cell_type": "code",
   "execution_count": 5,
   "metadata": {
    "collapsed": false
   },
   "outputs": [],
   "source": [
    "#this is a function of dealing with the created information\n",
    "def dealing_created(element):\n",
    "    created = {}\n",
    "    for tag in CREATED:\n",
    "        if tag in element.attrib:\n",
    "            created[tag] = element.attrib[tag]\n",
    "\n",
    "    return created"
   ]
  },
  {
   "cell_type": "code",
   "execution_count": 6,
   "metadata": {
    "collapsed": true
   },
   "outputs": [],
   "source": [
    "#this is a function of judging if the tag under address is just containing alphabet letters\n",
    "def is_correct_tag(tag_name):\n",
    "    tag_name = tag_name.lower()\n",
    "    if lower.search(tag_name):\n",
    "        return True\n",
    "\n",
    "    return False"
   ]
  },
  {
   "cell_type": "code",
   "execution_count": null,
   "metadata": {
    "collapsed": true
   },
   "outputs": [],
   "source": [
    "def dealing_member(tag_name):\n",
    "    data = []\n",
    "    for mem in element.iter(\"member\"):\n",
    "        member = {}\n",
    "        if \"type\" in mem.attrib:\n",
    "            member[\"type\"] = mem.attrib[\"type\"]\n",
    "        if \"ref\" in mem.attrib:\n",
    "            member[\"ref\"] = mem.attrib[\"ref\"]\n",
    "        if \"role\" in mem.attrib:\n",
    "            member[\"role\"] = mem.attrib[\"role\"]\n",
    "        data.append(member)\n",
    "    return data"
   ]
  },
  {
   "cell_type": "code",
   "execution_count": 7,
   "metadata": {
    "collapsed": true
   },
   "outputs": [],
   "source": [
    "def shape_element(element):\n",
    "    node = {}\n",
    "    if element.tag == \"node\" or element.tag == \"way\" or element.tag == \"relation\":  \n",
    "        if \"id\" in element.attrib:\n",
    "            node[\"id\"] = element.attrib[\"id\"]\n",
    "          \n",
    "        node[\"tag\"] = element.tag\n",
    "\n",
    "        if \"visible\" in element.attrib:\n",
    "            node[\"visible\"] = element.attrib[\"visible\"]\n",
    "\n",
    "        created = dealing_created(element)\n",
    "        if len(created) > 0:\n",
    "            node[\"created\"] = created\n",
    "\n",
    "        pos = []    \n",
    "        # if the lat or lon information is absence, then the pos information should not be recorded.\n",
    "        if \"lat\" in element.attrib and \"lon\" in element.attrib:\n",
    "            lat = element.attrib[\"lat\"]\n",
    "            lon = element.attrib[\"lon\"]\n",
    "            if isfloat(lat) and isfloat(lon):\n",
    "                pos = [float(lat), float(lon)]\n",
    "                node[\"pos\"] = pos\n",
    " \n",
    "        address = {}\n",
    "        for tag in element.iter(\"tag\"):\n",
    "            if tag.attrib['k'] == \"addr:street\":\n",
    "                address[\"street\"] = update_name(tag.attrib['v'], mapping)\n",
    "            else:\n",
    "                split_k = tag.attrib['k'].split(\":\")\n",
    "                ###let the key in dictionary be lower letter. \n",
    "                ###If there is a second \":\" that separates the type/direction of a street, then the tag will be ignored.\n",
    "                if len(split_k) == 1 and is_correct_tag(split_k[0]):\n",
    "                    node[split_k[0].lower()] = tag.attrib['v']\n",
    "                elif len(split_k) == 2 and split_k[0] == 'addr' and is_correct_tag(split_k[1]):\n",
    "                    address[split_k[1].lower()] = tag.attrib['v']\n",
    "\n",
    "        if len(address) > 0:\n",
    "            node[\"address\"] = address\n",
    "\n",
    "        if element.tag == \"way\":\n",
    "            node_refs = dealing_node_refs(element)\n",
    "            if len(node_refs) > 0:\n",
    "                node[\"node_refs\"] = node_refs\n",
    "        \n",
    "        if element.tag == \"relation\":\n",
    "            member = dealing_member(element)\n",
    "            if len(member) > 0:\n",
    "                node[\"member\"] = member\n",
    "          \n",
    "        return node\n",
    "    else:\n",
    "        return None"
   ]
  },
  {
   "cell_type": "code",
   "execution_count": 8,
   "metadata": {
    "collapsed": true
   },
   "outputs": [],
   "source": [
    "def process_map(file_in, pretty = False):\n",
    "    file_out = \"{0}.json\".format(file_in)\n",
    "    data = []\n",
    "    count = 0\n",
    "    with codecs.open(file_out, \"w\") as fo:\n",
    "        fo.write(\"[\")\n",
    "        for _, element in ET.iterparse(file_in):\n",
    "            if count > 10000:\n",
    "                break\n",
    "            el = shape_element(element)\n",
    "            if el:\n",
    "                #data.append(el) the format of json file is very important\n",
    "                if pretty:\n",
    "                    fo.write(json.dumps(el, indent=2)+\"\\n\")\n",
    "                else:\n",
    "                    count += 1\n",
    "                    if count == 1:\n",
    "                        fo.write(json.dumps(el))\n",
    "                    else:\n",
    "                        fo.write(\",\" + \"\\n\" + json.dumps(el))\n",
    "        fo.write(\"]\")\n",
    "    ##return data"
   ]
  },
  {
   "cell_type": "code",
   "execution_count": 9,
   "metadata": {
    "collapsed": false
   },
   "outputs": [],
   "source": [
    "process_map(FILENAME, False)"
   ]
  },
  {
   "cell_type": "code",
   "execution_count": 10,
   "metadata": {
    "collapsed": true
   },
   "outputs": [],
   "source": [
    "import json\n",
    "from pymongo import MongoClient\n",
    "client = MongoClient(\"mongodb://localhost:27017\")\n",
    "db = client.examples"
   ]
  },
  {
   "cell_type": "code",
   "execution_count": 11,
   "metadata": {
    "collapsed": false
   },
   "outputs": [],
   "source": [
    "with open('minneapolis-saint-paul_minnesota.osm.json') as f:\n",
    "    data = json.loads(f.read())\n",
    "    for a in data:\n",
    "        db.saint.insert_one(a)"
   ]
  },
  {
   "cell_type": "code",
   "execution_count": 20,
   "metadata": {
    "collapsed": false
   },
   "outputs": [
    {
     "data": {
      "text/plain": [
       "10001"
      ]
     },
     "execution_count": 20,
     "metadata": {},
     "output_type": "execute_result"
    }
   ],
   "source": [
    "db.saint.find().count()"
   ]
  },
  {
   "cell_type": "code",
   "execution_count": 31,
   "metadata": {
    "collapsed": false
   },
   "outputs": [],
   "source": [
    "result = db.saint.aggregate([{\"$group\":{\"_id\":\"$id\", \"count\":{\"$sum\":1}}},{\"$group\":{\"_id\":None, \"count\":{\"$sum\":1}}}])"
   ]
  },
  {
   "cell_type": "code",
   "execution_count": 15,
   "metadata": {
    "collapsed": false
   },
   "outputs": [
    {
     "data": {
      "text/plain": [
       "Collection(Database(MongoClient(host=['localhost:27017'], document_class=dict, tz_aware=False, connect=True), u'examples'), u'saint')"
      ]
     },
     "execution_count": 15,
     "metadata": {},
     "output_type": "execute_result"
    }
   ],
   "source": [
    "def unique_users():\n",
    "    # complete the aggregation pipeline\n",
    "    pipeline = [{\"$group\":{\"_id\":\"$id\", \"count\":{\"$sum\":1}}},\n",
    "                {\"$group\":{\"_id\":None, \"count\":{\"$sum\":1}}}]\n",
    "    return pipeline"
   ]
  },
  {
   "cell_type": "code",
   "execution_count": 33,
   "metadata": {
    "collapsed": false
   },
   "outputs": [],
   "source": [
    "result = [doc for doc in result]"
   ]
  },
  {
   "cell_type": "code",
   "execution_count": 34,
   "metadata": {
    "collapsed": false
   },
   "outputs": [
    {
     "data": {
      "text/plain": [
       "{u'_id': None, u'count': 10001}"
      ]
     },
     "execution_count": 34,
     "metadata": {},
     "output_type": "execute_result"
    }
   ],
   "source": [
    "result[0]"
   ]
  },
  {
   "cell_type": "code",
   "execution_count": null,
   "metadata": {
    "collapsed": true
   },
   "outputs": [],
   "source": []
  }
 ],
 "metadata": {
  "anaconda-cloud": {},
  "kernelspec": {
   "display_name": "Python [Root]",
   "language": "python",
   "name": "Python [Root]"
  },
  "language_info": {
   "codemirror_mode": {
    "name": "ipython",
    "version": 2
   },
   "file_extension": ".py",
   "mimetype": "text/x-python",
   "name": "python",
   "nbconvert_exporter": "python",
   "pygments_lexer": "ipython2",
   "version": "2.7.12"
  }
 },
 "nbformat": 4,
 "nbformat_minor": 0
}
